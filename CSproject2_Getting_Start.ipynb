{
  "nbformat": 4,
  "nbformat_minor": 0,
  "metadata": {
    "colab": {
      "name": "CSproject2_Getting_Start.ipynb",
      "provenance": [],
      "collapsed_sections": []
    },
    "kernelspec": {
      "name": "python3",
      "display_name": "Python 3"
    }
  },
  "cells": [
    {
      "cell_type": "markdown",
      "metadata": {
        "id": "YczzxMZjzZcn",
        "colab_type": "text"
      },
      "source": [
        "# Continual Learning with MNIST Rotated data set.\n",
        "### CS-GY-6133 Spring 2020\n",
        "### Project 2\n",
        "### Joh Eun Kang (NetID:jk5726)\n",
        "### _____________(NetID:      )"
      ]
    },
    {
      "cell_type": "markdown",
      "metadata": {
        "id": "qauwoLdLhkk_",
        "colab_type": "text"
      },
      "source": [
        "Joh_Eun_Kang(jk5726@nyu.edu)\n"
      ]
    },
    {
      "cell_type": "markdown",
      "metadata": {
        "id": "pAjoa4o7Y-kK",
        "colab_type": "text"
      },
      "source": [
        "# Introduction\n",
        "\n",
        "We only share this notebook because following steps of this notebook will lead you to download our data in your google drive, and give you another .ipynb file to run our code.<br>\n",
        "\n",
        "After you succsesfully run this notebook, you will have a cloned file in your Google Colab Drive with file name __CS6133_MINST(id1,id2)__. <br>\n",
        "\n",
        "In that file, __we have our notebook, codes, and a report.__ <br>\n",
        "\n",
        "Let's start!\n"
      ]
    },
    {
      "cell_type": "markdown",
      "metadata": {
        "id": "ddfo5CfCZ9S9",
        "colab_type": "text"
      },
      "source": [
        "# Mount to your Google Drive"
      ]
    },
    {
      "cell_type": "code",
      "metadata": {
        "id": "ilOuQ1BbZrwj",
        "colab_type": "code",
        "colab": {}
      },
      "source": [
        "from google.colab import drive\n",
        "drive.mount('/content/drive/')"
      ],
      "execution_count": 0,
      "outputs": []
    },
    {
      "cell_type": "markdown",
      "metadata": {
        "id": "SChV_QH6aKzV",
        "colab_type": "text"
      },
      "source": [
        "# Create a file to your Google Drive"
      ]
    },
    {
      "cell_type": "code",
      "metadata": {
        "id": "PsduW6c_aRYe",
        "colab_type": "code",
        "colab": {}
      },
      "source": [
        "%cd \"/content/drive/My Drive/\""
      ],
      "execution_count": 0,
      "outputs": []
    },
    {
      "cell_type": "code",
      "metadata": {
        "id": "u99UVX2UaXwU",
        "colab_type": "code",
        "colab": {}
      },
      "source": [
        "!mkdir \"CS6133_MINST(id1,id2)\""
      ],
      "execution_count": 0,
      "outputs": []
    },
    {
      "cell_type": "markdown",
      "metadata": {
        "id": "ZvCCSeKkaZ3Y",
        "colab_type": "text"
      },
      "source": [
        "by running this cell, you will have a directory called __\" CS6133_MINST(id1,id2)\"__ in your google Drive"
      ]
    },
    {
      "cell_type": "code",
      "metadata": {
        "id": "Jc2IbAEJcdKY",
        "colab_type": "code",
        "colab": {}
      },
      "source": [
        "!ls"
      ],
      "execution_count": 0,
      "outputs": []
    },
    {
      "cell_type": "markdown",
      "metadata": {
        "id": "3ep2d63HaBy9",
        "colab_type": "text"
      },
      "source": [
        "# Clone Github repository"
      ]
    },
    {
      "cell_type": "markdown",
      "metadata": {
        "id": "OKk1IfAGawTn",
        "colab_type": "text"
      },
      "source": [
        "First, you need to move your current location to the CS6133_MINST(id1,id2), and clone the github repo."
      ]
    },
    {
      "cell_type": "code",
      "metadata": {
        "id": "9a5FiLyeaFsC",
        "colab_type": "code",
        "colab": {}
      },
      "source": [
        "%cd \"/content/drive/My Drive/CS6133_MINST(id1,id2)/\""
      ],
      "execution_count": 0,
      "outputs": []
    },
    {
      "cell_type": "code",
      "metadata": {
        "id": "BHqOFH-ha7r5",
        "colab_type": "code",
        "colab": {}
      },
      "source": [
        "!git clone https://github.com/Joheun-Kang/Continual_Learning_with_Rotated_MNIST.git"
      ],
      "execution_count": 0,
      "outputs": []
    },
    {
      "cell_type": "markdown",
      "metadata": {
        "id": "sVz0U76vdKvT",
        "colab_type": "text"
      },
      "source": [
        "Let's check if it woked correctly.\n"
      ]
    },
    {
      "cell_type": "code",
      "metadata": {
        "id": "TyNvnbcJdSvK",
        "colab_type": "code",
        "colab": {}
      },
      "source": [
        "%cd \"/content/drive/My Drive/CS6133_MINST(id1,id2)/Continual_Learning_with_Rotated_MNIST/\""
      ],
      "execution_count": 0,
      "outputs": []
    },
    {
      "cell_type": "markdown",
      "metadata": {
        "id": "X1T5HL-YfvDt",
        "colab_type": "text"
      },
      "source": [
        "**NOTE**: please wait for a few minutes to download and uploaded to you drive.<br> Eventhough you succesfully run all those code, you may not see the uploaded file in your drive. Please click the __refresh__ button of you the drive browser often __(DON'T refesh this notebook!)__"
      ]
    },
    {
      "cell_type": "code",
      "metadata": {
        "id": "iO-4f3sedePx",
        "colab_type": "code",
        "colab": {}
      },
      "source": [
        "!ls"
      ],
      "execution_count": 0,
      "outputs": []
    },
    {
      "cell_type": "markdown",
      "metadata": {
        "id": "Uj7ZSoi4dt0z",
        "colab_type": "text"
      },
      "source": [
        "As a result of above code, the result will show  <br>\n",
        "```python\n",
        "CS6133_MNIST_Project_Code.ipynb\n",
        "GradientEpisodicMemory\n",
        "CSproject2_Getting_Start.ipynb\n",
        "```\n",
        " \n",
        "\n",
        "\n"
      ]
    },
    {
      "cell_type": "markdown",
      "metadata": {
        "id": "xiGN7TXuyXTh",
        "colab_type": "text"
      },
      "source": [
        "**NOTE**: Please refresh your drive to make sure the file is downloaded!."
      ]
    },
    {
      "cell_type": "markdown",
      "metadata": {
        "id": "tIyAUa-Cewng",
        "colab_type": "text"
      },
      "source": [
        "# Ready to run our code!"
      ]
    },
    {
      "cell_type": "markdown",
      "metadata": {
        "id": "_CRwKKE8hSPq",
        "colab_type": "text"
      },
      "source": [
        "We don't need this notebook anymore! please __open the CS6133_MNIST_Project_Code.ipynb__ to run our code."
      ]
    },
    {
      "cell_type": "code",
      "metadata": {
        "id": "Gp9IwYHkhRCw",
        "colab_type": "code",
        "colab": {}
      },
      "source": [
        ""
      ],
      "execution_count": 0,
      "outputs": []
    }
  ]
}