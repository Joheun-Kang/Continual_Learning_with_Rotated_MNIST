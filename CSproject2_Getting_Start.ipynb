{
  "nbformat": 4,
  "nbformat_minor": 0,
  "metadata": {
    "colab": {
      "name": "CSproject2_Getting_Start.ipynb",
      "provenance": [],
      "collapsed_sections": []
    },
    "kernelspec": {
      "name": "python3",
      "display_name": "Python 3"
    }
  },
  "cells": [
    {
      "cell_type": "markdown",
      "metadata": {
        "id": "qauwoLdLhkk_",
        "colab_type": "text"
      },
      "source": [
        "Joh_Eun_Kang(jk5726@nyu.edu)\n"
      ]
    },
    {
      "cell_type": "markdown",
      "metadata": {
        "id": "pAjoa4o7Y-kK",
        "colab_type": "text"
      },
      "source": [
        "# Introduction:\n",
        "\n",
        "We only share this notebook because this notebook will help you to download our data in your google drive, and give you another .ipynb file to run our experiment.<br>\n",
        "\n",
        "After you succsesfully run this notebook, you will have a cloned file in your Google Colab Drive with file name __CS6133_MINST(id1,id2)__. <br>\n",
        "\n",
        "In that file, __we have our notebook, code, and the report.__ <br>\n",
        "\n",
        "Let's start!\n"
      ]
    },
    {
      "cell_type": "markdown",
      "metadata": {
        "id": "ddfo5CfCZ9S9",
        "colab_type": "text"
      },
      "source": [
        "# Mount to your Google Drive"
      ]
    },
    {
      "cell_type": "code",
      "metadata": {
        "id": "ilOuQ1BbZrwj",
        "colab_type": "code",
        "colab": {
          "base_uri": "https://localhost:8080/",
          "height": 54
        },
        "outputId": "ba4a4890-434a-4c28-c1ea-692e1dab8497"
      },
      "source": [
        "from google.colab import drive\n",
        "drive.mount('/content/drive/')"
      ],
      "execution_count": 10,
      "outputs": [
        {
          "output_type": "stream",
          "text": [
            "Drive already mounted at /content/drive/; to attempt to forcibly remount, call drive.mount(\"/content/drive/\", force_remount=True).\n"
          ],
          "name": "stdout"
        }
      ]
    },
    {
      "cell_type": "markdown",
      "metadata": {
        "id": "SChV_QH6aKzV",
        "colab_type": "text"
      },
      "source": [
        "# Create a file to your Google Drive"
      ]
    },
    {
      "cell_type": "code",
      "metadata": {
        "id": "PsduW6c_aRYe",
        "colab_type": "code",
        "colab": {
          "base_uri": "https://localhost:8080/",
          "height": 34
        },
        "outputId": "0ec85890-1654-4919-d0dc-f211319a95c1"
      },
      "source": [
        "%cd \"/content/drive/My Drive/\""
      ],
      "execution_count": 11,
      "outputs": [
        {
          "output_type": "stream",
          "text": [
            "/content/drive/My Drive\n"
          ],
          "name": "stdout"
        }
      ]
    },
    {
      "cell_type": "code",
      "metadata": {
        "id": "u99UVX2UaXwU",
        "colab_type": "code",
        "colab": {}
      },
      "source": [
        "!mkdir \"CS6133_MINST(id1,id2)\""
      ],
      "execution_count": 0,
      "outputs": []
    },
    {
      "cell_type": "markdown",
      "metadata": {
        "id": "ZvCCSeKkaZ3Y",
        "colab_type": "text"
      },
      "source": [
        "by running this cell, you will have a directory called __\" CS6133_MINST(id1,id2)\"__ in your google Drive"
      ]
    },
    {
      "cell_type": "code",
      "metadata": {
        "id": "Jc2IbAEJcdKY",
        "colab_type": "code",
        "colab": {
          "base_uri": "https://localhost:8080/",
          "height": 408
        },
        "outputId": "8e9b96af-a84c-4877-c228-6146b3949d6a"
      },
      "source": [
        "!ls"
      ],
      "execution_count": 13,
      "outputs": [
        {
          "output_type": "stream",
          "text": [
            "'Anyfile Notepad Files'\n",
            "'Anyfile Notepad Files (1)'\n",
            " app\n",
            " Architecture_techniques_Power_efficiency.pdf\n",
            " boost_1_67_0.tar.bz2\n",
            " boost_1_67_0.tar.bz2.1\n",
            " boost_1_67_0.tar.bz2.2\n",
            " caffe\n",
            "'Colab Notebooks'\n",
            " Computer-Architecture-A-Quantitative-Approach-6th-Edition-PDF-eTextbook.pdf\n",
            " Computer+Organization+and+Design+RISC-V+edition.pdf\n",
            "'CS6133_MINST(id1,id2)'\n",
            " CS6133_MNIST_Project_2.ipynb\n",
            " CS6133_project2\n",
            " CSproject2_Getting_Start.ipynb\n",
            "'Getting started.pdf'\n",
            " ISSCC_2014_Horowitz.pdf\n",
            " Joh_Eun_Kang_CRF.pdf\n",
            "'Joh_Eun_Kang_CS_Corss_registration (1).pdf'\n",
            "'Joh_Eun_Kang .CS Cross.pdf'\n",
            " Pract_mnist\n",
            " project_2_core50.ipynb\n",
            " Project_2_second_version\n"
          ],
          "name": "stdout"
        }
      ]
    },
    {
      "cell_type": "markdown",
      "metadata": {
        "id": "3ep2d63HaBy9",
        "colab_type": "text"
      },
      "source": [
        "# Clone Github repository"
      ]
    },
    {
      "cell_type": "markdown",
      "metadata": {
        "id": "OKk1IfAGawTn",
        "colab_type": "text"
      },
      "source": [
        "First, you need to move your current location to the CS6133_MINST(id1,id2), and clone the github repo."
      ]
    },
    {
      "cell_type": "code",
      "metadata": {
        "id": "9a5FiLyeaFsC",
        "colab_type": "code",
        "colab": {
          "base_uri": "https://localhost:8080/",
          "height": 34
        },
        "outputId": "3c48da1a-d5b1-4073-9313-1b27d7e8d71b"
      },
      "source": [
        "%cd \"/content/drive/My Drive/CS6133_MINST(id1,id2)/\""
      ],
      "execution_count": 14,
      "outputs": [
        {
          "output_type": "stream",
          "text": [
            "/content/drive/My Drive/CS6133_MINST(id1,id2)\n"
          ],
          "name": "stdout"
        }
      ]
    },
    {
      "cell_type": "code",
      "metadata": {
        "id": "BHqOFH-ha7r5",
        "colab_type": "code",
        "colab": {
          "base_uri": "https://localhost:8080/",
          "height": 119
        },
        "outputId": "a73f9dc5-ce0a-4c7a-aa43-1519193ac7ee"
      },
      "source": [
        "!git clone https://github.com/Joheun-Kang/Continual_Learning_with_Rotated_MNIST.git"
      ],
      "execution_count": 15,
      "outputs": [
        {
          "output_type": "stream",
          "text": [
            "Cloning into 'Continual_Learning_with_Rotated_MNIST'...\n",
            "remote: Enumerating objects: 42, done.\u001b[K\n",
            "remote: Counting objects:   2% (1/42)\u001b[K\rremote: Counting objects:   4% (2/42)\u001b[K\rremote: Counting objects:   7% (3/42)\u001b[K\rremote: Counting objects:   9% (4/42)\u001b[K\rremote: Counting objects:  11% (5/42)\u001b[K\rremote: Counting objects:  14% (6/42)\u001b[K\rremote: Counting objects:  16% (7/42)\u001b[K\rremote: Counting objects:  19% (8/42)\u001b[K\rremote: Counting objects:  21% (9/42)\u001b[K\rremote: Counting objects:  23% (10/42)\u001b[K\rremote: Counting objects:  26% (11/42)\u001b[K\rremote: Counting objects:  28% (12/42)\u001b[K\rremote: Counting objects:  30% (13/42)\u001b[K\rremote: Counting objects:  33% (14/42)\u001b[K\rremote: Counting objects:  35% (15/42)\u001b[K\rremote: Counting objects:  38% (16/42)\u001b[K\rremote: Counting objects:  40% (17/42)\u001b[K\rremote: Counting objects:  42% (18/42)\u001b[K\rremote: Counting objects:  45% (19/42)\u001b[K\rremote: Counting objects:  47% (20/42)\u001b[K\rremote: Counting objects:  50% (21/42)\u001b[K\rremote: Counting objects:  52% (22/42)\u001b[K\rremote: Counting objects:  54% (23/42)\u001b[K\rremote: Counting objects:  57% (24/42)\u001b[K\rremote: Counting objects:  59% (25/42)\u001b[K\rremote: Counting objects:  61% (26/42)\u001b[K\rremote: Counting objects:  64% (27/42)\u001b[K\rremote: Counting objects:  66% (28/42)\u001b[K\rremote: Counting objects:  69% (29/42)\u001b[K\rremote: Counting objects:  71% (30/42)\u001b[K\rremote: Counting objects:  73% (31/42)\u001b[K\rremote: Counting objects:  76% (32/42)\u001b[K\rremote: Counting objects:  78% (33/42)\u001b[K\rremote: Counting objects:  80% (34/42)\u001b[K\rremote: Counting objects:  83% (35/42)\u001b[K\rremote: Counting objects:  85% (36/42)\u001b[K\rremote: Counting objects:  88% (37/42)\u001b[K\rremote: Counting objects:  90% (38/42)\u001b[K\rremote: Counting objects:  92% (39/42)\u001b[K\rremote: Counting objects:  95% (40/42)\u001b[K\rremote: Counting objects:  97% (41/42)\u001b[K\rremote: Counting objects: 100% (42/42)\u001b[K\rremote: Counting objects: 100% (42/42), done.\u001b[K\n",
            "remote: Compressing objects: 100% (40/40), done.\u001b[K\n",
            "remote: Total 42 (delta 3), reused 0 (delta 0), pack-reused 0\u001b[K\n",
            "Unpacking objects: 100% (42/42), done.\n"
          ],
          "name": "stdout"
        }
      ]
    },
    {
      "cell_type": "markdown",
      "metadata": {
        "id": "sVz0U76vdKvT",
        "colab_type": "text"
      },
      "source": [
        "Let's check if it woked correctly.\n"
      ]
    },
    {
      "cell_type": "code",
      "metadata": {
        "id": "TyNvnbcJdSvK",
        "colab_type": "code",
        "colab": {
          "base_uri": "https://localhost:8080/",
          "height": 34
        },
        "outputId": "6aa29ac8-18ee-476c-ef56-739a358a068b"
      },
      "source": [
        "%cd \"/content/drive/My Drive/CS6133_MINST(id1,id2)/Continual_Learning_with_Rotated_MNIST/\""
      ],
      "execution_count": 16,
      "outputs": [
        {
          "output_type": "stream",
          "text": [
            "/content/drive/My Drive/CS6133_MINST(id1,id2)/Continual_Learning_with_Rotated_MNIST\n"
          ],
          "name": "stdout"
        }
      ]
    },
    {
      "cell_type": "markdown",
      "metadata": {
        "id": "X1T5HL-YfvDt",
        "colab_type": "text"
      },
      "source": [
        "**NOTE**: please wait for a few minutes to download and uploaded to you drive.<br> Eventhough you succesfully run all those code, you may not see the uploaded file in your drive. Please click the __refresh__ button of you the drive browser often __(DON'T refesh this notebook!)__"
      ]
    },
    {
      "cell_type": "code",
      "metadata": {
        "id": "iO-4f3sedePx",
        "colab_type": "code",
        "colab": {
          "base_uri": "https://localhost:8080/",
          "height": 34
        },
        "outputId": "98f0e824-d96d-46bb-c8dc-468cb53d93ba"
      },
      "source": [
        "!ls"
      ],
      "execution_count": 18,
      "outputs": [
        {
          "output_type": "stream",
          "text": [
            "CS6133_MNIST_Project_Code.ipynb  GradientEpisodicMemory\n"
          ],
          "name": "stdout"
        }
      ]
    },
    {
      "cell_type": "markdown",
      "metadata": {
        "id": "Uj7ZSoi4dt0z",
        "colab_type": "text"
      },
      "source": [
        "As a result of above code, the result will show  <br>\n",
        "\n",
        "__CS6133_MNIST_Project_Code.ipynb__    __GradientEpisodicMemory__ <br>\n",
        "\n"
      ]
    },
    {
      "cell_type": "markdown",
      "metadata": {
        "id": "tIyAUa-Cewng",
        "colab_type": "text"
      },
      "source": [
        "# Ready to run our code!"
      ]
    },
    {
      "cell_type": "markdown",
      "metadata": {
        "id": "_CRwKKE8hSPq",
        "colab_type": "text"
      },
      "source": [
        "We don't need this notebook anymore! __please open the CS6133_MNIST_Project_Code.ipynb to run our code__"
      ]
    },
    {
      "cell_type": "code",
      "metadata": {
        "id": "Gp9IwYHkhRCw",
        "colab_type": "code",
        "colab": {}
      },
      "source": [
        ""
      ],
      "execution_count": 0,
      "outputs": []
    }
  ]
}