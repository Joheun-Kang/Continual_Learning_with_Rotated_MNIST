{
  "nbformat": 4,
  "nbformat_minor": 0,
  "metadata": {
    "colab": {
      "name": "CSproject2_Getting_Start.ipynb",
      "provenance": [],
      "collapsed_sections": []
    },
    "kernelspec": {
      "name": "python3",
      "display_name": "Python 3"
    }
  },
  "cells": [
    {
      "cell_type": "markdown",
      "metadata": {
        "id": "YczzxMZjzZcn",
        "colab_type": "text"
      },
      "source": [
        "# Continual Learning with MNIST Rotated data set.\n",
        "### CS-GY-6133 Spring 2020\n",
        "### Project 2\n",
        "### Joh Eun Kang (NetID:jk5726)\n",
        "### Dinesh Sreekanthan(NetID:ds5786)"
      ]
    },
    {
      "cell_type": "markdown",
      "metadata": {
        "id": "pAjoa4o7Y-kK",
        "colab_type": "text"
      },
      "source": [
        "# Introduction\n",
        "\n",
        "We only share this notebook because following steps of this notebook will lead you to download our data in your google drive, and give you another .ipynb file to run our code.<br>\n",
        "\n",
        "After you succsesfully run this notebook, you will have a cloned file in your Google Colab Drive with file name __CS6133_MINST(jk5726,ds5786)__. <br>\n",
        "\n",
        "In that file, __we have our Colab notebook, codes,__and __a report (colab version).__ <br>\n",
        "\n",
        "Let's start!\n"
      ]
    },
    {
      "cell_type": "markdown",
      "metadata": {
        "id": "ddfo5CfCZ9S9",
        "colab_type": "text"
      },
      "source": [
        "# Mount to your Google Drive"
      ]
    },
    {
      "cell_type": "code",
      "metadata": {
        "id": "ilOuQ1BbZrwj",
        "colab_type": "code",
        "outputId": "4e1d977a-f93a-40eb-a63c-3a56cb7e376a",
        "colab": {
          "base_uri": "https://localhost:8080/",
          "height": 120
        }
      },
      "source": [
        "from google.colab import drive\n",
        "drive.mount('/content/drive/')"
      ],
      "execution_count": 0,
      "outputs": [
        {
          "output_type": "stream",
          "text": [
            "Go to this URL in a browser: https://accounts.google.com/o/oauth2/auth?client_id=947318989803-6bn6qk8qdgf4n4g3pfee6491hc0brc4i.apps.googleusercontent.com&redirect_uri=urn%3aietf%3awg%3aoauth%3a2.0%3aoob&response_type=code&scope=email%20https%3a%2f%2fwww.googleapis.com%2fauth%2fdocs.test%20https%3a%2f%2fwww.googleapis.com%2fauth%2fdrive%20https%3a%2f%2fwww.googleapis.com%2fauth%2fdrive.photos.readonly%20https%3a%2f%2fwww.googleapis.com%2fauth%2fpeopleapi.readonly\n",
            "\n",
            "Enter your authorization code:\n",
            "··········\n",
            "Mounted at /content/drive/\n"
          ],
          "name": "stdout"
        }
      ]
    },
    {
      "cell_type": "markdown",
      "metadata": {
        "id": "SChV_QH6aKzV",
        "colab_type": "text"
      },
      "source": [
        "# Create a file to your Google Drive"
      ]
    },
    {
      "cell_type": "code",
      "metadata": {
        "id": "PsduW6c_aRYe",
        "colab_type": "code",
        "outputId": "49967880-1cec-48f3-c27a-a9886c93c4c7",
        "colab": {
          "base_uri": "https://localhost:8080/",
          "height": 33
        }
      },
      "source": [
        "%cd \"/content/drive/My Drive/\""
      ],
      "execution_count": 0,
      "outputs": [
        {
          "output_type": "stream",
          "text": [
            "/content/drive/My Drive\n"
          ],
          "name": "stdout"
        }
      ]
    },
    {
      "cell_type": "code",
      "metadata": {
        "id": "u99UVX2UaXwU",
        "colab_type": "code",
        "colab": {}
      },
      "source": [
        "!mkdir \"CS6133_MINST(jk5726,ds5786)\""
      ],
      "execution_count": 0,
      "outputs": []
    },
    {
      "cell_type": "markdown",
      "metadata": {
        "id": "ZvCCSeKkaZ3Y",
        "colab_type": "text"
      },
      "source": [
        "by running this cell, you will have a directory called __\" CS6133_MINST(jk5726,ds5786)\"__ in your google Drive"
      ]
    },
    {
      "cell_type": "code",
      "metadata": {
        "id": "Jc2IbAEJcdKY",
        "colab_type": "code",
        "outputId": "b6dbb1c1-9d6b-452e-bb6c-34301fcf17bc",
        "colab": {
          "base_uri": "https://localhost:8080/",
          "height": 217
        }
      },
      "source": [
        "!ls"
      ],
      "execution_count": 0,
      "outputs": [
        {
          "output_type": "stream",
          "text": [
            " BUGS.gdoc\t\t\t\t    Homework\n",
            " BUGS.txt\t\t\t\t   'Homework1 Fall 2018.pdf'\n",
            "'challenges_Bigdata (1).gdoc'\t\t    hw3_p4.sql\n",
            "'challenges_Bigdata (2).gdoc'\t\t    Notes\n",
            " challenges_Bigdata.docx\t\t    os\n",
            " challenges_Bigdata.gdoc\t\t    project\n",
            "'Colab Notebooks'\t\t\t   'Project Report 1.docx'\n",
            "'CS6133_MINST(id1,id2)'\t\t\t   'Project Report 1.gdoc'\n",
            "'CS 6643 Project 2: Human Detection.gdoc'   ScannedDocument.pdf\n",
            "'DBMS Project'\t\t\t\t    Scans\n",
            "'Dinesh _ NYU RESUME.gdoc'\t\t   'seat map.pdf'\n",
            "'Dinesh _ NYU RESUME.pdf'\n"
          ],
          "name": "stdout"
        }
      ]
    },
    {
      "cell_type": "markdown",
      "metadata": {
        "id": "3ep2d63HaBy9",
        "colab_type": "text"
      },
      "source": [
        "# Clone Github repository"
      ]
    },
    {
      "cell_type": "markdown",
      "metadata": {
        "id": "OKk1IfAGawTn",
        "colab_type": "text"
      },
      "source": [
        "First, you need to move your current location to the CS6133_MINST(id1,id2), and clone the github repo."
      ]
    },
    {
      "cell_type": "code",
      "metadata": {
        "id": "9a5FiLyeaFsC",
        "colab_type": "code",
        "outputId": "fadbb14c-31db-44a7-dc48-582f6dd4956c",
        "colab": {
          "base_uri": "https://localhost:8080/",
          "height": 33
        }
      },
      "source": [
        "%cd \"/content/drive/My Drive/CS6133_MINST(jk5726,ds5786)/\""
      ],
      "execution_count": 0,
      "outputs": [
        {
          "output_type": "stream",
          "text": [
            "/content/drive/My Drive/CS6133_MINST(id1,id2)\n"
          ],
          "name": "stdout"
        }
      ]
    },
    {
      "cell_type": "code",
      "metadata": {
        "id": "BHqOFH-ha7r5",
        "colab_type": "code",
        "outputId": "4c855b83-827e-4298-9337-3dbc95b44c14",
        "colab": {
          "base_uri": "https://localhost:8080/",
          "height": 117
        }
      },
      "source": [
        "!git clone https://github.com/Joheun-Kang/Continual_Learning_with_Rotated_MNIST.git"
      ],
      "execution_count": 0,
      "outputs": [
        {
          "output_type": "stream",
          "text": [
            "Cloning into 'Continual_Learning_with_Rotated_MNIST'...\n",
            "remote: Enumerating objects: 59, done.\u001b[K\n",
            "remote: Counting objects: 100% (59/59), done.\u001b[K\n",
            "remote: Compressing objects: 100% (57/57), done.\u001b[K\n",
            "remote: Total 59 (delta 11), reused 0 (delta 0), pack-reused 0\u001b[K\n",
            "Unpacking objects: 100% (59/59), done.\n"
          ],
          "name": "stdout"
        }
      ]
    },
    {
      "cell_type": "markdown",
      "metadata": {
        "id": "sVz0U76vdKvT",
        "colab_type": "text"
      },
      "source": [
        "Let's check if it woked correctly.\n"
      ]
    },
    {
      "cell_type": "code",
      "metadata": {
        "id": "TyNvnbcJdSvK",
        "colab_type": "code",
        "outputId": "bcbf8802-c6b8-43ce-b17b-2b96f866d193",
        "colab": {
          "base_uri": "https://localhost:8080/",
          "height": 33
        }
      },
      "source": [
        "%cd \"/content/drive/My Drive/CS6133_MINST(jk5726,ds5786)/Continual_Learning_with_Rotated_MNIST/\""
      ],
      "execution_count": 0,
      "outputs": [
        {
          "output_type": "stream",
          "text": [
            "/content/drive/My Drive/CS6133_MINST(id1,id2)/Continual_Learning_with_Rotated_MNIST\n"
          ],
          "name": "stdout"
        }
      ]
    },
    {
      "cell_type": "markdown",
      "metadata": {
        "id": "X1T5HL-YfvDt",
        "colab_type": "text"
      },
      "source": [
        "**NOTE**: please wait for a few minutes to download and uploaded to you drive.<br> Eventhough you succesfully run all those code, you may not see the uploaded file in your drive. Please click the __refresh__ button of you the drive browser often __(DON'T refesh this notebook!)__"
      ]
    },
    {
      "cell_type": "code",
      "metadata": {
        "id": "iO-4f3sedePx",
        "colab_type": "code",
        "outputId": "3c7be15a-e742-4eb6-c8da-d628fd9f39f0",
        "colab": {
          "base_uri": "https://localhost:8080/",
          "height": 50
        }
      },
      "source": [
        "!ls"
      ],
      "execution_count": 0,
      "outputs": [
        {
          "output_type": "stream",
          "text": [
            "CS6133_MNIST_Project_Code.ipynb  GradientEpisodicMemory\n",
            "CSproject2_Getting_Start.ipynb\n",
            "Project_2_report.ipynb\n"
          ],
          "name": "stdout"
        }
      ]
    },
    {
      "cell_type": "markdown",
      "metadata": {
        "id": "Uj7ZSoi4dt0z",
        "colab_type": "text"
      },
      "source": [
        "As a result of above code, the result will show  <br>\n",
        "```python\n",
        "CS6133_MNIST_Project_Code.ipynb\n",
        "GradientEpisodicMemory\n",
        "CSproject2_Getting_Start.ipynb\n",
        "```\n",
        " \n",
        "\n",
        "\n"
      ]
    },
    {
      "cell_type": "markdown",
      "metadata": {
        "id": "xiGN7TXuyXTh",
        "colab_type": "text"
      },
      "source": [
        "**NOTE**: Please refresh your drive to make sure the file is downloaded!."
      ]
    },
    {
      "cell_type": "markdown",
      "metadata": {
        "id": "tIyAUa-Cewng",
        "colab_type": "text"
      },
      "source": [
        "# Ready to run our code!"
      ]
    },
    {
      "cell_type": "markdown",
      "metadata": {
        "id": "_CRwKKE8hSPq",
        "colab_type": "text"
      },
      "source": [
        "We don't need this notebook anymore! please __open the CS6133_MNIST_Project_Code.ipynb__ to run our code."
      ]
    },
    {
      "cell_type": "code",
      "metadata": {
        "id": "Gp9IwYHkhRCw",
        "colab_type": "code",
        "colab": {}
      },
      "source": [
        ""
      ],
      "execution_count": 0,
      "outputs": []
    }
  ]
}
