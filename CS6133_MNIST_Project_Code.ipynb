{
  "nbformat": 4,
  "nbformat_minor": 0,
  "metadata": {
    "colab": {
      "name": "CS6133_MNIST_Project_Code.ipynb",
      "provenance": [],
      "collapsed_sections": []
    },
    "kernelspec": {
      "name": "python3",
      "display_name": "Python 3"
    },
    "accelerator": "GPU"
  },
  "cells": [
    {
      "cell_type": "markdown",
      "metadata": {
        "id": "YGxSkap2JTYZ",
        "colab_type": "text"
      },
      "source": [
        "#CS6133_Project_2\n",
        "## Continual Learning with MNIST Rotation Data\n",
        "\n",
        "\n",
        "Joh Eun Kang (jk5726)<br>\n",
        "Dinesh Sreekanthan (ds5786)<br>\n",
        "\n"
      ]
    },
    {
      "cell_type": "markdown",
      "metadata": {
        "id": "EsbkMtq0KCDe",
        "colab_type": "text"
      },
      "source": [
        "#Getting Start"
      ]
    },
    {
      "cell_type": "markdown",
      "metadata": {
        "id": "AHJP95ImKYg_",
        "colab_type": "text"
      },
      "source": [
        "### Mount to your Google Colab to  Google Drive "
      ]
    },
    {
      "cell_type": "code",
      "metadata": {
        "id": "T8fM1s2M8pnc",
        "colab_type": "code",
        "colab": {}
      },
      "source": [
        "from google.colab import drive\n",
        "drive.mount('/content/drive/')"
      ],
      "execution_count": 0,
      "outputs": []
    },
    {
      "cell_type": "markdown",
      "metadata": {
        "id": "yrzt3VjMoHBy",
        "colab_type": "text"
      },
      "source": [
        "Go to the link, and paste it!"
      ]
    },
    {
      "cell_type": "code",
      "metadata": {
        "id": "paJSskVL85Fj",
        "colab_type": "code",
        "colab": {}
      },
      "source": [
        "!pwd"
      ],
      "execution_count": 0,
      "outputs": []
    },
    {
      "cell_type": "code",
      "metadata": {
        "id": "E7Iwasev-VXF",
        "colab_type": "code",
        "colab": {}
      },
      "source": [
        "%cd \"/content/drive/My Drive/\""
      ],
      "execution_count": 0,
      "outputs": []
    },
    {
      "cell_type": "markdown",
      "metadata": {
        "id": "h7Kqa2qGoumB",
        "colab_type": "text"
      },
      "source": [
        "Then, you will get the directory called __\"CS6133_MINST(jk5726,ds5786)\"__ in your drive. "
      ]
    },
    {
      "cell_type": "code",
      "metadata": {
        "id": "g87K43VkAPZf",
        "colab_type": "code",
        "colab": {}
      },
      "source": [
        "%cd \"/content/drive/My Drive/CS6133_MINST(jk5726,ds5786)/\""
      ],
      "execution_count": 0,
      "outputs": []
    },
    {
      "cell_type": "code",
      "metadata": {
        "id": "CW90v9VjDoOf",
        "colab_type": "code",
        "colab": {}
      },
      "source": [
        "!pwd"
      ],
      "execution_count": 0,
      "outputs": []
    },
    {
      "cell_type": "code",
      "metadata": {
        "id": "Puh4UbqnwuIG",
        "colab_type": "code",
        "colab": {}
      },
      "source": [
        "!ls"
      ],
      "execution_count": 0,
      "outputs": []
    },
    {
      "cell_type": "code",
      "metadata": {
        "id": "qIuGtPCVDqGF",
        "colab_type": "code",
        "colab": {}
      },
      "source": [
        "%cd \"/content/drive/My Drive/CS6133_MINST(jk5726,ds5786)/Continual_Learning_with_Rotated_MNIST/GradientEpisodicMemory\""
      ],
      "execution_count": 0,
      "outputs": []
    },
    {
      "cell_type": "code",
      "metadata": {
        "id": "dDibkjXTDtZo",
        "colab_type": "code",
        "colab": {}
      },
      "source": [
        "!ls"
      ],
      "execution_count": 0,
      "outputs": []
    },
    {
      "cell_type": "markdown",
      "metadata": {
        "id": "h5QaoqRFKrGw",
        "colab_type": "text"
      },
      "source": [
        "__Please make sure you install the quadprog module__"
      ]
    },
    {
      "cell_type": "code",
      "metadata": {
        "id": "Yc8ugE5FI_mV",
        "colab_type": "code",
        "colab": {}
      },
      "source": [
        "!pip install quadprog"
      ],
      "execution_count": 0,
      "outputs": []
    },
    {
      "cell_type": "markdown",
      "metadata": {
        "id": "_tjpupjLKwXC",
        "colab_type": "text"
      },
      "source": [
        "Often, it says permission denied, so that you need to give them permission to run the file."
      ]
    },
    {
      "cell_type": "code",
      "metadata": {
        "id": "scRFaNkoDuK3",
        "colab_type": "code",
        "colab": {}
      },
      "source": [
        "!chmod +x run_experiments.sh"
      ],
      "execution_count": 0,
      "outputs": []
    },
    {
      "cell_type": "markdown",
      "metadata": {
        "id": "4MC0q_6eK_BL",
        "colab_type": "text"
      },
      "source": [
        "# Run Models\n",
        "Since we are using the __Rotated MNIST data sets__ only, we modified the code so that we can get a graph and a barchart of the CL of MNIST rotated data."
      ]
    },
    {
      "cell_type": "markdown",
      "metadata": {
        "id": "w08db4TnqkGu",
        "colab_type": "text"
      },
      "source": [
        "Since we have 20 tasks, it takes some time to run. please wait!"
      ]
    },
    {
      "cell_type": "code",
      "metadata": {
        "id": "9QUQrzfQD1FN",
        "colab_type": "code",
        "colab": {}
      },
      "source": [
        "!./run_experiments.sh"
      ],
      "execution_count": 0,
      "outputs": []
    },
    {
      "cell_type": "markdown",
      "metadata": {
        "id": "OnkAE9VjodNm",
        "colab_type": "text"
      },
      "source": [
        "If you see the results like\n",
        "\n",
        "```python\n",
        "results/gem_mnist_rotations.pt\n",
        "```\n",
        "\n",
        "all those results will be in your __\"result\"__ file in your directiory!."
      ]
    },
    {
      "cell_type": "code",
      "metadata": {
        "id": "ciehoSZKD4W2",
        "colab_type": "code",
        "colab": {}
      },
      "source": [
        "!pwd"
      ],
      "execution_count": 0,
      "outputs": []
    },
    {
      "cell_type": "code",
      "metadata": {
        "id": "3GjYF64ao68R",
        "colab_type": "code",
        "colab": {}
      },
      "source": [
        "!ls "
      ],
      "execution_count": 0,
      "outputs": []
    },
    {
      "cell_type": "code",
      "metadata": {
        "id": "lqvquHdCo8oe",
        "colab_type": "code",
        "colab": {}
      },
      "source": [
        "%cd /content/drive/My Drive/CS6133_MINST(jk5726,ds5786)/Continual_Learning_with_Rotated_MNIST/GradientEpisodicMemory/results"
      ],
      "execution_count": 0,
      "outputs": []
    },
    {
      "cell_type": "code",
      "metadata": {
        "id": "BsCbklBuo_rT",
        "colab_type": "code",
        "colab": {}
      },
      "source": [
        "!ls"
      ],
      "execution_count": 0,
      "outputs": []
    },
    {
      "cell_type": "markdown",
      "metadata": {
        "id": "nOXNnmEiqFst",
        "colab_type": "text"
      },
      "source": [
        "As you can see , we have barlot,evoplot, pytorch file (.pt), and txt of gem result. "
      ]
    },
    {
      "cell_type": "markdown",
      "metadata": {
        "id": "Y8VPXyt5t-oH",
        "colab_type": "text"
      },
      "source": [
        "# Result<br>\n",
        "We explained details in our report. In the cloned files, you will have find the __\"Project_2_report.ipynb\"__. <br>"
      ]
    },
    {
      "cell_type": "code",
      "metadata": {
        "id": "wxjHA1Abo6Qo",
        "colab_type": "code",
        "colab": {}
      },
      "source": [
        ""
      ],
      "execution_count": 0,
      "outputs": []
    }
  ]
}
