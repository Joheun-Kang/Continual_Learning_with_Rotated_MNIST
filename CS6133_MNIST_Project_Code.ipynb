{
  "nbformat": 4,
  "nbformat_minor": 0,
  "metadata": {
    "colab": {
      "name": "CS6133_MNIST_Project_Code.ipynb",
      "provenance": [],
      "collapsed_sections": []
    },
    "kernelspec": {
      "name": "python3",
      "display_name": "Python 3"
    },
    "accelerator": "GPU"
  },
  "cells": [
    {
      "cell_type": "markdown",
      "metadata": {
        "id": "YGxSkap2JTYZ",
        "colab_type": "text"
      },
      "source": [
        "#CS6133_Project_2\n",
        "## Continual Learning with MNIST Rotation Data\n",
        "\n",
        "####Team Memebers<br>\n",
        "Joh Eun Kang (NetId:jk5726)<br>\n",
        "_____________(NetId:______)<br>\n"
      ]
    },
    {
      "cell_type": "markdown",
      "metadata": {
        "id": "EsbkMtq0KCDe",
        "colab_type": "text"
      },
      "source": [
        "#Getting Start"
      ]
    },
    {
      "cell_type": "markdown",
      "metadata": {
        "id": "AHJP95ImKYg_",
        "colab_type": "text"
      },
      "source": [
        "### Mount to your Google Colab to  Google Drive "
      ]
    },
    {
      "cell_type": "code",
      "metadata": {
        "id": "T8fM1s2M8pnc",
        "colab_type": "code",
        "outputId": "5feb9945-5074-452b-cb89-d6dee5bbeebc",
        "colab": {
          "base_uri": "https://localhost:8080/",
          "height": 54
        }
      },
      "source": [
        "from google.colab import drive\n",
        "drive.mount('/content/drive/')"
      ],
      "execution_count": 1,
      "outputs": [
        {
          "output_type": "stream",
          "text": [
            "Drive already mounted at /content/drive/; to attempt to forcibly remount, call drive.mount(\"/content/drive/\", force_remount=True).\n"
          ],
          "name": "stdout"
        }
      ]
    },
    {
      "cell_type": "markdown",
      "metadata": {
        "id": "yrzt3VjMoHBy",
        "colab_type": "text"
      },
      "source": [
        "Go to the link, and paste it!"
      ]
    },
    {
      "cell_type": "code",
      "metadata": {
        "id": "paJSskVL85Fj",
        "colab_type": "code",
        "outputId": "5039127b-08a4-4953-c823-7a24da8f25d8",
        "colab": {
          "base_uri": "https://localhost:8080/",
          "height": 34
        }
      },
      "source": [
        "!pwd"
      ],
      "execution_count": 2,
      "outputs": [
        {
          "output_type": "stream",
          "text": [
            "/content\n"
          ],
          "name": "stdout"
        }
      ]
    },
    {
      "cell_type": "code",
      "metadata": {
        "id": "E7Iwasev-VXF",
        "colab_type": "code",
        "outputId": "9e12ab9d-f56f-4f42-f22a-0e9338bb71c8",
        "colab": {
          "base_uri": "https://localhost:8080/",
          "height": 34
        }
      },
      "source": [
        "%cd \"/content/drive/My Drive/\""
      ],
      "execution_count": 3,
      "outputs": [
        {
          "output_type": "stream",
          "text": [
            "/content/drive/My Drive\n"
          ],
          "name": "stdout"
        }
      ]
    },
    {
      "cell_type": "code",
      "metadata": {
        "id": "Xiyj7Seb-k1x",
        "colab_type": "code",
        "colab": {}
      },
      "source": [
        "!mkdir \"CS6133_MINST(id1,id2)\""
      ],
      "execution_count": 0,
      "outputs": []
    },
    {
      "cell_type": "markdown",
      "metadata": {
        "id": "h7Kqa2qGoumB",
        "colab_type": "text"
      },
      "source": [
        "Then, you will get the directory called __\"CS6133_MINST(id1,id2)\"__ in your drive. "
      ]
    },
    {
      "cell_type": "code",
      "metadata": {
        "id": "g87K43VkAPZf",
        "colab_type": "code",
        "colab": {
          "base_uri": "https://localhost:8080/",
          "height": 34
        },
        "outputId": "08dbd09f-58ca-4c45-b05d-608d624c1373"
      },
      "source": [
        "%cd \"/content/drive/My Drive/CS6133_MINST(id1,id2)/\""
      ],
      "execution_count": 7,
      "outputs": [
        {
          "output_type": "stream",
          "text": [
            "/content/drive/My Drive/CS6133_MINST(id1,id2)\n"
          ],
          "name": "stdout"
        }
      ]
    },
    {
      "cell_type": "code",
      "metadata": {
        "id": "CW90v9VjDoOf",
        "colab_type": "code",
        "colab": {
          "base_uri": "https://localhost:8080/",
          "height": 34
        },
        "outputId": "314f6418-3839-4120-eb59-6046aaaa2086"
      },
      "source": [
        "!pwd"
      ],
      "execution_count": 8,
      "outputs": [
        {
          "output_type": "stream",
          "text": [
            "/content/drive/My Drive/CS6133_MINST(id1,id2)\n"
          ],
          "name": "stdout"
        }
      ]
    },
    {
      "cell_type": "markdown",
      "metadata": {
        "id": "Q9GIpLbwpWaF",
        "colab_type": "text"
      },
      "source": [
        "After you move to the repository, __clone the file from the Github repository__ that we posted using git command."
      ]
    },
    {
      "cell_type": "code",
      "metadata": {
        "id": "kmX5rGBJpLye",
        "colab_type": "code",
        "colab": {}
      },
      "source": [
        "# git "
      ],
      "execution_count": 0,
      "outputs": []
    },
    {
      "cell_type": "code",
      "metadata": {
        "id": "qIuGtPCVDqGF",
        "colab_type": "code",
        "colab": {
          "base_uri": "https://localhost:8080/",
          "height": 34
        },
        "outputId": "1702ec1e-4dae-4530-9cfd-b26823166d74"
      },
      "source": [
        "%cd \"/content/drive/My Drive/Pract_mnist/GradientEpisodicMemory\""
      ],
      "execution_count": 9,
      "outputs": [
        {
          "output_type": "stream",
          "text": [
            "/content/drive/My Drive/Pract_mnist/GradientEpisodicMemory\n"
          ],
          "name": "stdout"
        }
      ]
    },
    {
      "cell_type": "code",
      "metadata": {
        "id": "dDibkjXTDtZo",
        "colab_type": "code",
        "colab": {
          "base_uri": "https://localhost:8080/",
          "height": 68
        },
        "outputId": "57b23843-e433-46c0-9068-4ebc33640335"
      },
      "source": [
        "!ls"
      ],
      "execution_count": 10,
      "outputs": [
        {
          "output_type": "stream",
          "text": [
            "CODE_OF_CONDUCT.md  LICENSE  model\t       results\n",
            "CONTRIBUTING.md     main.py  README.md\t       run_experiments.sh\n",
            "data\t\t    metrics  requirements.txt\n"
          ],
          "name": "stdout"
        }
      ]
    },
    {
      "cell_type": "markdown",
      "metadata": {
        "id": "h5QaoqRFKrGw",
        "colab_type": "text"
      },
      "source": [
        "__Please make sure you install the quadprog module__"
      ]
    },
    {
      "cell_type": "code",
      "metadata": {
        "id": "Yc8ugE5FI_mV",
        "colab_type": "code",
        "colab": {
          "base_uri": "https://localhost:8080/",
          "height": 207
        },
        "outputId": "94187547-beee-41a8-e401-e02a4ea14c60"
      },
      "source": [
        "!pip install quadprog"
      ],
      "execution_count": 11,
      "outputs": [
        {
          "output_type": "stream",
          "text": [
            "Collecting quadprog\n",
            "  Downloading https://files.pythonhosted.org/packages/5a/f0/d4c8866f5d14dfa1a441439f5ce0d2680844651772129c431e78caadfe10/quadprog-0.1.7.tar.gz\n",
            "Requirement already satisfied: Cython in /usr/local/lib/python3.6/dist-packages (from quadprog) (0.29.15)\n",
            "Building wheels for collected packages: quadprog\n",
            "  Building wheel for quadprog (setup.py) ... \u001b[?25l\u001b[?25hdone\n",
            "  Created wheel for quadprog: filename=quadprog-0.1.7-cp36-cp36m-linux_x86_64.whl size=307336 sha256=ece89ff7c95cd74a8a337673a04291c0edc548a31bdd2f9b0438c3dc5179a854\n",
            "  Stored in directory: /root/.cache/pip/wheels/36/dd/b1/849989444c0a5930927b260663019b7da6cff864fc224c2747\n",
            "Successfully built quadprog\n",
            "Installing collected packages: quadprog\n",
            "Successfully installed quadprog-0.1.7\n"
          ],
          "name": "stdout"
        }
      ]
    },
    {
      "cell_type": "markdown",
      "metadata": {
        "id": "_tjpupjLKwXC",
        "colab_type": "text"
      },
      "source": [
        "Often, it says permission denied, so that you need to give them permission to run the file."
      ]
    },
    {
      "cell_type": "code",
      "metadata": {
        "id": "scRFaNkoDuK3",
        "colab_type": "code",
        "colab": {}
      },
      "source": [
        "!chmod +x run_experiments.sh"
      ],
      "execution_count": 0,
      "outputs": []
    },
    {
      "cell_type": "markdown",
      "metadata": {
        "id": "4MC0q_6eK_BL",
        "colab_type": "text"
      },
      "source": [
        "# Run Models\n",
        "Since we are using the __Rotated MNIST data sets__ only, we modified the code so that we can get a graph and a barchart of the CL of MNIST rotated data."
      ]
    },
    {
      "cell_type": "markdown",
      "metadata": {
        "id": "w08db4TnqkGu",
        "colab_type": "text"
      },
      "source": [
        "Since we are goig to have 20 tasks for each model, it took a pretty long time to fun the below cell. please wait!"
      ]
    },
    {
      "cell_type": "code",
      "metadata": {
        "id": "9QUQrzfQD1FN",
        "colab_type": "code",
        "colab": {
          "base_uri": "https://localhost:8080/",
          "height": 122
        },
        "outputId": "70e9083b-1a07-4dcf-8133-41831d82de6d"
      },
      "source": [
        "!./run_experiments.sh"
      ],
      "execution_count": 11,
      "outputs": [
        {
          "output_type": "stream",
          "text": [
            "results/single_mnist_rotations.pt_2020_03_23_04_15_01_b7d943294edc47c39fafbe7a396ec14b: {'model': 'single', 'n_hiddens': 100, 'n_layers': 2, 'n_memories': 0, 'memory_strength': 0, 'finetune': False, 'n_epochs': 1, 'batch_size': 10, 'lr': 0.003, 'cuda': False, 'seed': 0, 'log_every': 100, 'save_path': 'results/', 'data_path': 'data/', 'data_file': 'mnist_rotations.pt', 'samples_per_task': 1000, 'shuffle_tasks': 'no'} # 0.535 -0.070 0.407 # 14.416024923324585\n",
            "results/independent_mnist_rotations.pt_2020_03_23_04_16_05_e72a21bfbe564326b6c6edddf03ed40c: {'model': 'independent', 'n_hiddens': 100, 'n_layers': 2, 'n_memories': 0, 'memory_strength': 0, 'finetune': True, 'n_epochs': 1, 'batch_size': 10, 'lr': 0.1, 'cuda': False, 'seed': 0, 'log_every': 100, 'save_path': 'results/', 'data_path': 'data/', 'data_file': 'mnist_rotations.pt', 'samples_per_task': 1000, 'shuffle_tasks': 'no'} # 0.587 0.000 0.000 # 8.080221891403198\n",
            "results/multimodal_mnist_rotations.pt_2020_03_23_04_16_51_c0f3535a661140b29dc4c57e29c872af: {'model': 'multimodal', 'n_hiddens': 100, 'n_layers': 1, 'n_memories': 0, 'memory_strength': 0, 'finetune': False, 'n_epochs': 1, 'batch_size': 10, 'lr': 0.1, 'cuda': False, 'seed': 0, 'log_every': 100, 'save_path': 'results/', 'data_path': 'data/', 'data_file': 'mnist_rotations.pt', 'samples_per_task': 1000, 'shuffle_tasks': 'no'} # 0.731 -0.051 0.008 # 14.440162658691406\n",
            "results/ewc_mnist_rotations.pt_2020_03_23_04_17_55_9fb4b9ade6f44bcb87f7136d5a8277ec: {'model': 'ewc', 'n_hiddens': 100, 'n_layers': 2, 'n_memories': 1000, 'memory_strength': 1000.0, 'finetune': False, 'n_epochs': 1, 'batch_size': 10, 'lr': 0.01, 'cuda': False, 'seed': 0, 'log_every': 100, 'save_path': 'results/', 'data_path': 'data/', 'data_file': 'mnist_rotations.pt', 'samples_per_task': 1000, 'shuffle_tasks': 'no'} # 0.545 -0.205 0.552 # 37.01085424423218\n",
            "results/gem_mnist_rotations.pt_2020_03_23_04_19_57_e5fd4b39167942238d12ed3bd38c54ce: {'model': 'gem', 'n_hiddens': 100, 'n_layers': 2, 'n_memories': 256, 'memory_strength': 0.5, 'finetune': False, 'n_epochs': 1, 'batch_size': 10, 'lr': 0.1, 'cuda': False, 'seed': 0, 'log_every': 100, 'save_path': 'results/', 'data_path': 'data/', 'data_file': 'mnist_rotations.pt', 'samples_per_task': 1000, 'shuffle_tasks': 'no'} # 0.851 0.002 0.659 # 110.78145027160645\n"
          ],
          "name": "stdout"
        }
      ]
    },
    {
      "cell_type": "markdown",
      "metadata": {
        "id": "OnkAE9VjodNm",
        "colab_type": "text"
      },
      "source": [
        "If you see the results like\n",
        "\n",
        "```python\n",
        "results/single_mnist_rotations.pt\n",
        "results/independent_mnist_rotations.pt\n",
        "results/multimodal_mnist_rotations.pt\n",
        "results/ewc_mnist_rotations.pt\n",
        "results/gem_mnist_rotations.pt\n",
        "```\n",
        "\n",
        "all those results will be in your __\"result\"__ file in your directiory!."
      ]
    },
    {
      "cell_type": "code",
      "metadata": {
        "id": "ciehoSZKD4W2",
        "colab_type": "code",
        "colab": {
          "base_uri": "https://localhost:8080/",
          "height": 34
        },
        "outputId": "97e5e879-4929-4fa9-e029-061fee857f8e"
      },
      "source": [
        "!pwd"
      ],
      "execution_count": 12,
      "outputs": [
        {
          "output_type": "stream",
          "text": [
            "/content/drive/My Drive/Pract_mnist/GradientEpisodicMemory\n"
          ],
          "name": "stdout"
        }
      ]
    },
    {
      "cell_type": "code",
      "metadata": {
        "id": "3GjYF64ao68R",
        "colab_type": "code",
        "colab": {
          "base_uri": "https://localhost:8080/",
          "height": 68
        },
        "outputId": "13fc283c-bd0b-4515-ad89-1a08d80c742b"
      },
      "source": [
        "!ls "
      ],
      "execution_count": 13,
      "outputs": [
        {
          "output_type": "stream",
          "text": [
            "CODE_OF_CONDUCT.md  LICENSE  model\t       results\n",
            "CONTRIBUTING.md     main.py  README.md\t       run_experiments.sh\n",
            "data\t\t    metrics  requirements.txt\n"
          ],
          "name": "stdout"
        }
      ]
    },
    {
      "cell_type": "code",
      "metadata": {
        "id": "lqvquHdCo8oe",
        "colab_type": "code",
        "colab": {
          "base_uri": "https://localhost:8080/",
          "height": 34
        },
        "outputId": "e6a992fb-2e40-49ef-ca87-895ac123e112"
      },
      "source": [
        "%cd /content/drive/My Drive/Pract_mnist/GradientEpisodicMemory/results"
      ],
      "execution_count": 18,
      "outputs": [
        {
          "output_type": "stream",
          "text": [
            "/content/drive/My Drive/Pract_mnist/GradientEpisodicMemory/results\n"
          ],
          "name": "stdout"
        }
      ]
    },
    {
      "cell_type": "code",
      "metadata": {
        "id": "BsCbklBuo_rT",
        "colab_type": "code",
        "colab": {
          "base_uri": "https://localhost:8080/",
          "height": 238
        },
        "outputId": "bdf5ad15-63b9-4ab9-f9a1-30c3d52d5f83"
      },
      "source": [
        "!ls"
      ],
      "execution_count": 19,
      "outputs": [
        {
          "output_type": "stream",
          "text": [
            "barplot_mnist_rotations.pdf\n",
            "evoplot_mnist_rotations.pdf\n",
            "ewc_mnist_rotations.pt_2020_03_23_04_17_55_9fb4b9ade6f44bcb87f7136d5a8277ec.pt\n",
            "ewc_mnist_rotations.pt_2020_03_23_04_17_55_9fb4b9ade6f44bcb87f7136d5a8277ec.txt\n",
            "gem_mnist_rotations.pt_2020_03_23_04_19_57_e5fd4b39167942238d12ed3bd38c54ce.pt\n",
            "gem_mnist_rotations.pt_2020_03_23_04_19_57_e5fd4b39167942238d12ed3bd38c54ce.txt\n",
            "independent_mnist_rotations.pt_2020_03_23_04_16_05_e72a21bfbe564326b6c6edddf03ed40c.pt\n",
            "independent_mnist_rotations.pt_2020_03_23_04_16_05_e72a21bfbe564326b6c6edddf03ed40c.txt\n",
            "multimodal_mnist_rotations.pt_2020_03_23_04_16_51_c0f3535a661140b29dc4c57e29c872af.pt\n",
            "multimodal_mnist_rotations.pt_2020_03_23_04_16_51_c0f3535a661140b29dc4c57e29c872af.txt\n",
            "plot_results.py\n",
            "single_mnist_rotations.pt_2020_03_23_04_15_01_b7d943294edc47c39fafbe7a396ec14b.pt\n",
            "single_mnist_rotations.pt_2020_03_23_04_15_01_b7d943294edc47c39fafbe7a396ec14b.txt\n"
          ],
          "name": "stdout"
        }
      ]
    },
    {
      "cell_type": "markdown",
      "metadata": {
        "id": "nOXNnmEiqFst",
        "colab_type": "text"
      },
      "source": [
        "As you can see , we have pytorch file (.pt) and txt "
      ]
    },
    {
      "cell_type": "markdown",
      "metadata": {
        "id": "Y8VPXyt5t-oH",
        "colab_type": "text"
      },
      "source": [
        "# Result<br>\n",
        "\n",
        "These are the example results. The __result may change__ if you change the __rotated angles(\"rot\")__ and the __number of tasks__. <br>\n",
        "Additional explanation will be in the report!"
      ]
    }
  ]
}